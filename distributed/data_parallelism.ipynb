{
 "cells": [
  {
   "cell_type": "markdown",
   "id": "56c3faf2",
   "metadata": {},
   "source": [
    "# Data Parallelism"
   ]
  },
  {
   "cell_type": "markdown",
   "id": "853f5139",
   "metadata": {},
   "source": [
    "Data parallel:\n",
    "\n",
    "1. Shard the input activation data along the batch dimension into N-chunks. (i.e. each device gets 1 batch)\n",
    "\n",
    "2. Replicate the model weights for each of the N-devices\n",
    "\n",
    "Effectively, each device contains a replica of the model and is responsible for computing a shard of the final output tensor.\n",
    "\n",
    "\n"
   ]
  }
 ],
 "metadata": {
  "language_info": {
   "name": "python"
  }
 },
 "nbformat": 4,
 "nbformat_minor": 5
}
